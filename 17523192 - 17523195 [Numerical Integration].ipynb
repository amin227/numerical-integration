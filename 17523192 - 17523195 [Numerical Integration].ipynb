{
 "cells": [
  {
   "cell_type": "code",
   "execution_count": 1,
   "metadata": {},
   "outputs": [
    {
     "name": "stderr",
     "output_type": "stream",
     "text": [
      "Warning message:\n",
      "\"package 'matlib' was built under R version 3.4.4\""
     ]
    }
   ],
   "source": [
    "library (matlib)"
   ]
  },
  {
   "cell_type": "markdown",
   "metadata": {},
   "source": [
    "1. Trapezoidal Rule for numerical integration"
   ]
  },
  {
   "cell_type": "markdown",
   "metadata": {},
   "source": [
    "Declare the Trapezoidal Rule"
   ]
  },
  {
   "cell_type": "code",
   "execution_count": 25,
   "metadata": {},
   "outputs": [],
   "source": [
    "trapezoid <- function(f, a, b){\n",
    "            if (is.function(f) == FALSE) {\n",
    "                stop('f must be a function with one parameter (variable)')}\n",
    " \n",
    "  h <- b - a\n",
    "   \n",
    "  fxdx <- (h / 2) * (f(a) + f(b))\n",
    "   \n",
    "  return(fxdx)\n",
    "}\n"
   ]
  },
  {
   "cell_type": "markdown",
   "metadata": {},
   "source": [
    "Declare the function"
   ]
  },
  {
   "cell_type": "code",
   "execution_count": 29,
   "metadata": {},
   "outputs": [],
   "source": [
    "f <- function(x) {\n",
    "  return(x^2 - x * sin(x))\n",
    "}"
   ]
  },
  {
   "cell_type": "markdown",
   "metadata": {},
   "source": [
    "use the rule in the desired function"
   ]
  },
  {
   "cell_type": "code",
   "execution_count": 30,
   "metadata": {},
   "outputs": [
    {
     "data": {
      "text/html": [
       "74.4865534332892"
      ],
      "text/latex": [
       "74.4865534332892"
      ],
      "text/markdown": [
       "74.4865534332892"
      ],
      "text/plain": [
       "[1] 74.48655"
      ]
     },
     "metadata": {},
     "output_type": "display_data"
    }
   ],
   "source": [
    "trapezoid(f, 0, 5)"
   ]
  },
  {
   "cell_type": "markdown",
   "metadata": {},
   "source": [
    "2. Simpsons Rule"
   ]
  },
  {
   "cell_type": "markdown",
   "metadata": {},
   "source": [
    "Declare the rule"
   ]
  },
  {
   "cell_type": "code",
   "execution_count": 31,
   "metadata": {},
   "outputs": [],
   "source": [
    "simpsons.rule <- function(f, a, b) {\n",
    "  if (is.function(f) == FALSE) {\n",
    "    stop('f must be a function with one parameter (variable)')\n",
    "  }\n",
    "   \n",
    "  h <- (b - a) / 2\n",
    "  x0 <- a\n",
    "  x1 <- a + h\n",
    "  x2 <- b\n",
    "   \n",
    "  s <- (h / 3) * (f(x0) + 4 * f(x1) + f(x2))\n",
    "   \n",
    "  return(s)\n",
    "}"
   ]
  },
  {
   "cell_type": "markdown",
   "metadata": {},
   "source": [
    "Declare the function"
   ]
  },
  {
   "cell_type": "code",
   "execution_count": 32,
   "metadata": {},
   "outputs": [],
   "source": [
    "f2 <- function(x) {\n",
    "  return(x^4 - x^2 / cos(x))\n",
    "}"
   ]
  },
  {
   "cell_type": "markdown",
   "metadata": {},
   "source": [
    "use the rule in the desired function"
   ]
  },
  {
   "cell_type": "code",
   "execution_count": 33,
   "metadata": {},
   "outputs": [
    {
     "data": {
      "text/html": [
       "-8.4452590667786"
      ],
      "text/latex": [
       "-8.4452590667786"
      ],
      "text/markdown": [
       "-8.4452590667786"
      ],
      "text/plain": [
       "[1] -8.445259"
      ]
     },
     "metadata": {},
     "output_type": "display_data"
    }
   ],
   "source": [
    "simpsons.rule(f2, 0, 3)"
   ]
  }
 ],
 "metadata": {
  "kernelspec": {
   "display_name": "R",
   "language": "R",
   "name": "ir"
  },
  "language_info": {
   "codemirror_mode": "r",
   "file_extension": ".r",
   "mimetype": "text/x-r-source",
   "name": "R",
   "pygments_lexer": "r",
   "version": "3.4.3"
  }
 },
 "nbformat": 4,
 "nbformat_minor": 2
}
